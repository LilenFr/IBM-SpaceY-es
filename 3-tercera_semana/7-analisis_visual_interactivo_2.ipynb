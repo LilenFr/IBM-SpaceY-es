{
 "cells": [
  {
   "attachments": {},
   "cell_type": "markdown",
   "metadata": {},
   "source": [
    "# Crear un tablero interactivo con Plotly Dash  📉\n",
    "\n",
    "<strong>Objetivos</strong>:\n",
    "+ Crear una aplicación Plotly Dash para que los usuarios realicen análisis visuales interactivos con los datos de lanzamiento de SpaceX en tiempo real.\n",
    "+ Completar todas las tareas."
   ]
  },
  {
   "attachments": {},
   "cell_type": "markdown",
   "metadata": {},
   "source": [
    "El resultado final debe verse así:\n",
    "\n",
    "<img src='https://cf-courses-data.s3.us.cloud-object-storage.appdomain.cloud/IBM-DS0321EN-SkillsNetwork/labs/module_3/images/dash_completed.PNG'>"
   ]
  },
  {
   "attachments": {},
   "cell_type": "markdown",
   "metadata": {},
   "source": [
    "Después del análisis visual utilizando el tablero, se debería poder obtener información suficiente para responder las siguientes cinco preguntas:\n",
    "\n",
    "+ ¿Qué sitio tiene la mayor cantidad de lanzamientos exitosos?\n",
    "+ ¿Qué sitio tiene la mayor tasa de éxito de lanzamientos?\n",
    "+ ¿Qué rango(s) de carga útil tiene la mayor tasa de éxito de lanzamientos?\n",
    "+ ¿Qué rango(s) de carga útil tiene la tasa de éxito de lanzamientos más baja?\n",
    "+ ¿Qué versión de F9 Booster (v1.0, v1.1, FT, B4, B5, etc.) tiene la mayor tasa de éxito de lanzamientos?"
   ]
  },
  {
   "attachments": {},
   "cell_type": "markdown",
   "metadata": {},
   "source": [
    "---"
   ]
  },
  {
   "attachments": {},
   "cell_type": "markdown",
   "metadata": {},
   "source": [
    "## Importar librerías y descargar datos"
   ]
  },
  {
   "cell_type": "code",
   "execution_count": 1,
   "metadata": {},
   "outputs": [],
   "source": [
    "# Importar.\n",
    "import pandas as pd\n",
    "import wget\n",
    "\n",
    "# Para ignorar Warnings.\n",
    "import warnings\n",
    "warnings.filterwarnings('ignore')"
   ]
  },
  {
   "cell_type": "code",
   "execution_count": 2,
   "metadata": {},
   "outputs": [
    {
     "data": {
      "text/plain": [
       "'spacex_dash_app.py'"
      ]
     },
     "execution_count": 2,
     "metadata": {},
     "output_type": "execute_result"
    }
   ],
   "source": [
    "# Descargar datos.\n",
    "wget.download('https://cf-courses-data.s3.us.cloud-object-storage.appdomain.cloud/IBM-DS0321EN-SkillsNetwork/datasets/spacex_launch_dash.csv', '../datasets')\n",
    "\n",
    "# Descargar una aplicación esqueleto de Dash.\n",
    "wget.download('https://cf-courses-data.s3.us.cloud-object-storage.appdomain.cloud/IBM-DS0321EN-SkillsNetwork/labs/module_3/spacex_dash_app.py') # <-- Ir al archivo .py y cambiar la ruta de carga del CSV por '../datasets/spacex_launch_dash.csv'."
   ]
  },
  {
   "attachments": {},
   "cell_type": "markdown",
   "metadata": {},
   "source": [
    "Para abrir el servidor con la app Dash base, colocar en la terminal:\n",
    "\n",
    "``` sh\n",
    "python3 spacex_dash_app.py\n",
    "```"
   ]
  },
  {
   "attachments": {},
   "cell_type": "markdown",
   "metadata": {},
   "source": [
    "## Tareas"
   ]
  },
  {
   "attachments": {},
   "cell_type": "markdown",
   "metadata": {},
   "source": [
    "### Tarea 1: Agregar un menu desplegable para seleccionar diferentes sitios de lanzamiento"
   ]
  },
  {
   "attachments": {},
   "cell_type": "markdown",
   "metadata": {},
   "source": [
    "Crear un menú desplegable <code>dcc.Dropdown(id='site-dropdown',...)</code> con los siguientes atributos:\n",
    "+ Atributo <code>id</code> con el valor <code>site-dropdown</code>.\n",
    "+ El atributo <code>options</code> es una lista de opciones similares a un diccionario, con atributos de clave-valor. Hay que configurar el par clave-valor para que aparezcan los nombres de los sitios de lanzamiento de <code>spacex_df</code>. También se debe incluir la opción predeterminada <code>All</code>.\n",
    "+ Atributo <code>value</code> con el valor desplegable predeterminado <code>All</code>, lo que significa que todos los sitios están seleccionados.\n",
    "+ Atributo <code>placeholder</code> para mostrar una descripción de texto sobre el área de entrada, como <code>Select a Launch Site here</code>.\n",
    "+ Atributo <code>searchable</code> como True para que se puedan ingresar palabras clave para buscar sitios de lanzamiento."
   ]
  },
  {
   "attachments": {},
   "cell_type": "markdown",
   "metadata": {},
   "source": [
    "Hay cuatro sitios de lanzamiento diferentes y se quiere ver primero cuál tiene el mayor número de éxitos. Luego, se debe poder seleccionar un sitio específico y verificar su tasa de éxito detallada (class=0 vs. class=1)."
   ]
  },
  {
   "attachments": {},
   "cell_type": "markdown",
   "metadata": {},
   "source": [
    "Para esto, completar el archivo esqueleto spacex_dash_app.py."
   ]
  },
  {
   "attachments": {},
   "cell_type": "markdown",
   "metadata": {},
   "source": [
    "### Tarea 2: Agregar una función callback para representar un gráfico circular de éxito, basado en el menú desplegable del sitio seleccionado"
   ]
  },
  {
   "attachments": {},
   "cell_type": "markdown",
   "metadata": {},
   "source": [
    "La idea general es obtener el sitio de lanzamiento seleccionado desde el menú desplegable, y generar un gráfico circular que visualice los recuentos de éxito del lanzamiento."
   ]
  },
  {
   "attachments": {},
   "cell_type": "markdown",
   "metadata": {},
   "source": [
    "La función callback de Dash es un tipo de función de Python que Dash llamará automáticamente cada vez que reciba actualizaciones de un componente de entrada, como un evento de selección de clic o menú desplegable."
   ]
  },
  {
   "attachments": {},
   "cell_type": "markdown",
   "metadata": {},
   "source": [
    "Agregar una callback en <code>spacex_dash_app.py</code> que incluya la siguiente lógica de aplicación:\n",
    "+ La entrada configurada para ser el menú desplegable del sitio. Es decir, <code>Input(component_id='site-dropdown', component_property='value')</code>.\n",
    "+ La salida configurada para ser el gráfico con id <code>success-pie-chart</code>. Es decir <code>Output(component_id='success-pie-chart', component_property='figure')</code>.\n",
    "+ Una declaración <code>If-Else</code> para verificar si se seleccionaron <code>ALL</code> sitios o solo se seleccionó un sitio de lanzamiento específico.\n",
    "  + Si se seleccionan ALL sitios, usar todas las filas en el marco de datos <code>spacex_df</code> para devolver un gráfico circular que muestre los lanzamientos exitosos totales (es decir, el recuento total de la columna <code>class</code>).\n",
    "  + Si se selecciona un sitio de lanzamiento específico, primero filtrar el marco de datos <code>spacex_df</code> para incluir los únicos datos para el sitio seleccionado. Luego, representar y devolver un gráfico circular que muestre el conteo de éxitos (<code>class=1</code>) y el conteo de fallas (<code>class=0</code>) para el sitio seleccionado."
   ]
  },
  {
   "attachments": {},
   "cell_type": "markdown",
   "metadata": {},
   "source": [
    "### Tarea 3: Agregar un control de rango para seleccionar la carga útil"
   ]
  },
  {
   "attachments": {},
   "cell_type": "markdown",
   "metadata": {},
   "source": [
    "A continuación, se quiere averiguar si la variable de carga útil se correlaciona con el resultado de la misión. Desde el punto de vista del tablero, se debe poder seleccionar fácilmente diferentes rangos de carga útil y ver si se pueden identificar algunos patrones visuales."
   ]
  },
  {
   "attachments": {},
   "cell_type": "markdown",
   "metadata": {},
   "source": [
    "Agregar un control deslizante en <code>spacex_dash_app.py</code> que incluya la siguiente lógica de aplicación:\n",
    "+ <code>Id</code> como <code>payload-slider</code>.\n",
    "+ <code>min</code> que indique el punto inicial del control deslizante. Establecer su valor en 0 (Kg).\n",
    "+ <code>max</code> que indique el punto final del control deslizante. Establecer su valor en 10000 (Kg).\n",
    "+ <code>step</code> que indique el intervalo del control deslizante en el control deslizante. Establecer su valor en 1000 (Kg).\n",
    "+ <code>value</code> que indique el rango actual seleccionado, y configurarlo para que sea <code>min_payload</code> y <code>max_payload</code>."
   ]
  },
  {
   "attachments": {},
   "cell_type": "markdown",
   "metadata": {},
   "source": [
    "### Tarea 4: Agregar una función callback para representar el gráfico de dispersión de success-payload-scatter-chart"
   ]
  },
  {
   "attachments": {},
   "cell_type": "markdown",
   "metadata": {},
   "source": [
    "A continuación, trazar un gráfico de dispersión con el eje x con la carga útil y el eje y con el resultado del lanzamiento (es decir, la columna de <code>class</code>). De este modo se podría observar visualmente cómo se correlacionan la carga útil con los resultados de la misión para los sitios seleccionados.\n",
    "\n",
    "Además, etiquetar con colores la versión del booster en cada punto de dispersión para poder observar los resultados de la misión con diferentes boosters."
   ]
  },
  {
   "attachments": {},
   "cell_type": "markdown",
   "metadata": {},
   "source": [
    "Agregar una callback en <code>spacex_dash_app.py</code> que incluya la siguiente lógica de aplicación:\n",
    "+ La entrada como <code>[Input(component_id='site-dropdown', component_property='value'), Input(component_id='payload-slider', component_property='value')]</code>. Tener en cuenta que hay dos componentes de entrada, uno para recibir el sitio de lanzamiento y otro para recibir el rango de carga útil.\n",
    "+ La salida como <code>Output(component_id='success-payload-scatter-chart', component_property='figure')</code>.\n",
    "+ Una declaración <code>If-Else</code> para verificar si se seleccionaron ALL los sitios o solo se seleccionó un sitio de lanzamiento específico.\n",
    "  + Si se seleccionan ALL sitios, representar un gráfico de dispersión para mostrar todos los valores para la variable <code>Payload Mass (kg)</code> y la variable <code>class</code>. Además, el color del punto debe configurarse en la versión de booster.\n",
    "  + Si se selecciona un sitio de lanzamiento específico, primero filtrar <code>spacex_df</code> y generar un gráfico de dispersión para mostrar los valores de <code>Payload Mass (kg)</code> y <code>class</code> para el sitio seleccionado, y etiquetar con colores el punto usando <code>Boosster Version Category</code>."
   ]
  },
  {
   "attachments": {},
   "cell_type": "markdown",
   "metadata": {},
   "source": [
    "---"
   ]
  }
 ],
 "metadata": {
  "kernelspec": {
   "display_name": "venv",
   "language": "python",
   "name": "python3"
  },
  "language_info": {
   "codemirror_mode": {
    "name": "ipython",
    "version": 3
   },
   "file_extension": ".py",
   "mimetype": "text/x-python",
   "name": "python",
   "nbconvert_exporter": "python",
   "pygments_lexer": "ipython3",
   "version": "3.8.10 (default, Nov 14 2022, 12:59:47) \n[GCC 9.4.0]"
  },
  "orig_nbformat": 4,
  "vscode": {
   "interpreter": {
    "hash": "2f6df6fafddcf4191c25ed70f060a12c9fcc928be1965f7fd836f9f581d56415"
   }
  }
 },
 "nbformat": 4,
 "nbformat_minor": 2
}
